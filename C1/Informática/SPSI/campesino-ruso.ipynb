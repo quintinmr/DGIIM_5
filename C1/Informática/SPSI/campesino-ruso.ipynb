{
 "cells": [
  {
   "cell_type": "markdown",
   "metadata": {},
   "source": [
    "# MÉTODO DE MULTIPLICACIÓN DEL CAMPESINO RUSO\n",
    "\n",
    "En este notebook presentamos una implementación en código python del método para multiplicación del campesino ruso. Veamos en primer lugar en qué consiste dicho método:\n",
    "\n",
    "Sean $a$ y $b$ dos números enteros. Ponemos dichos números uno al lado del otro (es indiferente el orden), formando dos columnas. En la columna de la izquierda vamos duplicando el número sucesivamente y en la de la derecha, dividimos entre 2, tomando el cociente a la baja. En el momento en que lleguemos en la columna de la derecha a 1, paramos. Tachamos las filas en las que el número de la derecha es par. Finalmente, sumamos los elementos de la izquierda restantes. Ese es el resultado.\n",
    "\n",
    "Ejemplo:\n",
    "\n",
    "$¿104 \\times 45?$\n",
    "\n",
    "$104$ | $45$\n",
    "\n",
    "$208$ | $22$\n",
    "\n",
    "$416$ | $11$\n",
    "\n",
    "$832$ | $5$\n",
    "\n",
    "$1664$ | $2$\n",
    "\n",
    "$3328$ | $1$\n",
    "\n",
    "nos quedamos con las filas\n",
    "\n",
    "$104$ | $45$\n",
    "\n",
    "$416$ | $11$\n",
    "\n",
    "$832$ | $5$\n",
    "\n",
    "$3328$ | $1$\n",
    "\n",
    "Sumamos los elementos de la izquierda de dichas filas: $104+416+832+3328=4680$\n",
    "\n",
    "\n"
   ]
  },
  {
   "cell_type": "markdown",
   "metadata": {},
   "source": [
    "## Código python del método"
   ]
  },
  {
   "cell_type": "code",
   "execution_count": 5,
   "metadata": {},
   "outputs": [],
   "source": [
    "import numpy as np"
   ]
  },
  {
   "cell_type": "code",
   "execution_count": 19,
   "metadata": {},
   "outputs": [],
   "source": [
    "def campesino_ruso (a:int, b:int):\n",
    "\n",
    "    resultado = 0\n",
    "\n",
    "    while b>=1:\n",
    "        print(a, \":\", b)\n",
    "        if b%2 != 0: resultado+=a\n",
    "        b = int(b/2)\n",
    "        a= 2*a\n",
    "\n",
    "\n",
    "    return resultado"
   ]
  },
  {
   "cell_type": "code",
   "execution_count": 20,
   "metadata": {},
   "outputs": [
    {
     "name": "stdout",
     "output_type": "stream",
     "text": [
      "1000 : 3200\n",
      "2000 : 1600\n",
      "4000 : 800\n",
      "8000 : 400\n",
      "16000 : 200\n",
      "32000 : 100\n",
      "64000 : 50\n",
      "128000 : 25\n",
      "256000 : 12\n",
      "512000 : 6\n",
      "1024000 : 3\n",
      "2048000 : 1\n"
     ]
    },
    {
     "data": {
      "text/plain": [
       "3200000"
      ]
     },
     "execution_count": 20,
     "metadata": {},
     "output_type": "execute_result"
    }
   ],
   "source": [
    "c = campesino_ruso(1000,3200)\n",
    "c"
   ]
  },
  {
   "cell_type": "markdown",
   "metadata": {},
   "source": [
    "# Método de exponenciación rápida\n",
    "\n",
    "La exponenciación rápida es un método que calcula de manera rápida y eficiente la potencia n-ésima de un número. Uno de los algoritmos que menos iteraciones require (O(log(n))) es este:\n",
    "\n",
    "$ a^n = \\begin{cases} \\left(a^{\\frac{n}{2}}\\right)^2 & \\text{si n es par} \\\\ \\left(a^{\\frac{n-1}{2}}\\right)^2 \\cdot a & \\text{si n es impar} \\end{cases} $\n",
    "\n",
    "En el caso de que el exponente al que se pretende elevar es par, simplemente se eleva la base al cuadrado y se reduce el exponente a la mitad. En caso de que este sea impar, se multiplica por a."
   ]
  },
  {
   "cell_type": "markdown",
   "metadata": {},
   "source": [
    "## Código python del método"
   ]
  },
  {
   "cell_type": "code",
   "execution_count": 21,
   "metadata": {},
   "outputs": [],
   "source": [
    "import math"
   ]
  },
  {
   "cell_type": "code",
   "execution_count": 43,
   "metadata": {},
   "outputs": [],
   "source": [
    "def expo_rapida (a:float, n:int):\n",
    "\n",
    "    resultado = 1\n",
    "\n",
    "    while n > 0:\n",
    "        \n",
    "        if n % 2 == 1: # si n es impar\n",
    "            resultado *= a\n",
    "        a *= a\n",
    "        n //= 2\n",
    "            \n",
    "    return resultado\n"
   ]
  },
  {
   "cell_type": "code",
   "execution_count": 46,
   "metadata": {},
   "outputs": [
    {
     "data": {
      "text/plain": [
       "2097152000000000000000000000000000000000000000000"
      ]
     },
     "execution_count": 46,
     "metadata": {},
     "output_type": "execute_result"
    }
   ],
   "source": [
    "expo_rapida(200,21)"
   ]
  }
 ],
 "metadata": {
  "kernelspec": {
   "display_name": "Python 3",
   "language": "python",
   "name": "python3"
  },
  "language_info": {
   "codemirror_mode": {
    "name": "ipython",
    "version": 3
   },
   "file_extension": ".py",
   "mimetype": "text/x-python",
   "name": "python",
   "nbconvert_exporter": "python",
   "pygments_lexer": "ipython3",
   "version": "3.10.12"
  }
 },
 "nbformat": 4,
 "nbformat_minor": 2
}
